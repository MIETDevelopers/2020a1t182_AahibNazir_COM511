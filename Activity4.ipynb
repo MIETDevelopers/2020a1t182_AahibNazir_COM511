{
 "cells": [
  {
   "cell_type": "code",
   "execution_count": 4,
   "id": "fdfa27a8",
   "metadata": {},
   "outputs": [
    {
     "name": "stdout",
     "output_type": "stream",
     "text": [
      "Element found at index:  1\n",
      "Element not found\n"
     ]
    }
   ],
   "source": [
    "# Searching activity using linear search and binary search\n",
    "\n",
    "def linearSearch(list, n, key):   #function \n",
    "\n",
    "    # iterate/Going through the list sequencially\n",
    "    for i in range(0, n):\n",
    "        if (list[i] == key):\n",
    "            return i\n",
    "    return -1\n",
    "\n",
    "\n",
    "list = [5, 8, 3, 0, 9]\n",
    "key = 8\n",
    "n = len(list)\n",
    "res = linearSearch(list, n, key)\n",
    "if(res == -1):\n",
    "    print(\"Element not found\")\n",
    "else:\n",
    "    print(\"Element found at index: \", res)\n",
    "    \n",
    "    \n",
    "    \n",
    "# another way/example to explain it\n",
    "def linearSearch(list, n, key):   #function \n",
    "\n",
    "    # iterate/Going through the list sequencially\n",
    "    for i in range(0, n):\n",
    "        if (list[i] == key):\n",
    "            return i\n",
    "    return -1\n",
    "\n",
    "\n",
    "list = [5, 8, 3, 0, 9]\n",
    "key = 1\n",
    "n = len(list)\n",
    "result = linearSearch(list, n, key)\n",
    "if(result == -1):\n",
    "    print(\"Element not found\")\n",
    "else:\n",
    "    print(\"Element found at index: \", result)"
   ]
  },
  {
   "cell_type": "code",
   "execution_count": 8,
   "id": "6a75c0bf",
   "metadata": {},
   "outputs": [
    {
     "name": "stdout",
     "output_type": "stream",
     "text": [
      "Element is present at index 2\n"
     ]
    }
   ],
   "source": [
    "# Binary Search in python (BSA)\n",
    "\n",
    "#Iterative Method                                                     # Iteration Method\n",
    "def binarySearch(array, x, low, high):                                 #do until the pointers low and high meet each other.\n",
    "                                                                      #mid = (low + high)/2\n",
    "                                                                      #  if (x == arr[mid])\n",
    "                                                                      #     return mid\n",
    "                                                                      #  else if (x > arr[mid]) // x is on the right side\n",
    "                                                                      #  low = mid + 1\n",
    "                                                                      #  else                       // x is on the left side\n",
    "                                                                      #  high = mid - 1\n",
    "\n",
    "    # Repeat until the pointers low and high meet each other\n",
    "    while low <= high:\n",
    "\n",
    "        mid = low + (high - low)//2\n",
    "\n",
    "        if array[mid] == x:\n",
    "            return mid\n",
    "\n",
    "        elif array[mid] < x:\n",
    "            low = mid + 1\n",
    "\n",
    "        else:\n",
    "            high = mid - 1\n",
    "\n",
    "    return -1\n",
    "\n",
    "\n",
    "array = [3, 4, 5, 6, 7, 8, 9]\n",
    "x = 5\n",
    "\n",
    "result = binarySearch(array, x, 0, len(array)-1)\n",
    "\n",
    "if result != -1:\n",
    "    print(\"Element is present at index \" + str(result))\n",
    "else:\n",
    "    print(\"Not found\")                                               "
   ]
  },
  {
   "cell_type": "code",
   "execution_count": 9,
   "id": "6139ff81",
   "metadata": {},
   "outputs": [
    {
     "name": "stdout",
     "output_type": "stream",
     "text": [
      "Not found\n"
     ]
    }
   ],
   "source": [
    "# BSA IN PYTHON\n",
    "#Recursive Method\n",
    "#binarySearch(arr, x, low, high)\n",
    "#    if low > high\n",
    "#        return False \n",
    "#    else\n",
    "#        mid = (low + high) / 2 \n",
    "#        if x == arr[mid]\n",
    "#            return mid\n",
    "#        else if x > arr[mid]        // x is on the right side\n",
    "#            return binarySearch(arr, x, mid + 1, high)\n",
    "#        else                               // x is on the right side\n",
    "#            return binarySearch(arr, x, low, mid - 1)\n",
    "\n",
    "# Binary Search in python, RECURSIVE METHOD\n",
    "\n",
    "\n",
    "def binarySearch(array, x, low, high):\n",
    "\n",
    "    if high >= low:\n",
    "\n",
    "        mid = low + (high - low)//2\n",
    "\n",
    "        # If found at mid, then return it\n",
    "        if array[mid] == x:\n",
    "            return mid\n",
    "\n",
    "        # Search the left half\n",
    "        elif array[mid] > x:\n",
    "            return binarySearch(array, x, low, mid-1)\n",
    "\n",
    "        # Search the right half\n",
    "        else:\n",
    "            return binarySearch(array, x, mid + 1, high)\n",
    "\n",
    "    else:\n",
    "        return -1\n",
    "\n",
    "\n",
    "array = [5, 3, 1, 0, 15, 162, 93]\n",
    "x = 9\n",
    "\n",
    "result = binarySearch(array, x, 0, len(array)-1)\n",
    "\n",
    "if result != -1:\n",
    "    print(\"Element is present at index \" + str(result))\n",
    "else:\n",
    "    print(\"Not found\")"
   ]
  },
  {
   "cell_type": "code",
   "execution_count": null,
   "id": "55323a12",
   "metadata": {},
   "outputs": [],
   "source": []
  }
 ],
 "metadata": {
  "kernelspec": {
   "display_name": "Python 3 (ipykernel)",
   "language": "python",
   "name": "python3"
  },
  "language_info": {
   "codemirror_mode": {
    "name": "ipython",
    "version": 3
   },
   "file_extension": ".py",
   "mimetype": "text/x-python",
   "name": "python",
   "nbconvert_exporter": "python",
   "pygments_lexer": "ipython3",
   "version": "3.9.12"
  }
 },
 "nbformat": 4,
 "nbformat_minor": 5
}
