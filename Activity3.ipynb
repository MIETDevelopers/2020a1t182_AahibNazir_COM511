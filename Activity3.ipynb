{
 "cells": [
  {
   "cell_type": "code",
   "execution_count": 9,
   "id": "4df80441",
   "metadata": {},
   "outputs": [
    {
     "name": "stdout",
     "output_type": "stream",
     "text": [
      "23\n",
      "False\n",
      "string is not alphanumeric.\n",
      "range is:  python, the lan\n"
     ]
    }
   ],
   "source": [
    "# some operations on string\n",
    "\n",
    "teststring=\"welcome to python world\"\n",
    "\n",
    "print(len(teststring))\n",
    "print(teststring.isalpha())\n",
    "\n",
    "if teststring.isalnum():\n",
    "    print(\"string is alphanumeric.\")\n",
    "else:\n",
    "        print(\"string is not alphanumeric.\")\n",
    "        \n",
    "        \n",
    "#range\n",
    "print('range is: ',str[1:16])"
   ]
  },
  {
   "cell_type": "code",
   "execution_count": 2,
   "id": "8fcca078",
   "metadata": {},
   "outputs": [
    {
     "name": "stdout",
     "output_type": "stream",
     "text": [
      "String length:  46\n",
      "False\n",
      "Range :  python, the language. adscg 34nf fnkuh55 6543\n"
     ]
    }
   ],
   "source": [
    "# count no. of alphabets in the give string\n",
    "\n",
    "str=' python, the language. adscg 34nf fnkuh55 6543'\n",
    "print('String length: ',len(str))\n",
    "\n",
    "print(str.isalpha())\n",
    "\n",
    "\n",
    "#range from given string\n",
    "print('Range : ', str[1:])"
   ]
  },
  {
   "cell_type": "code",
   "execution_count": 10,
   "id": "bdcf8ce7",
   "metadata": {},
   "outputs": [
    {
     "name": "stdout",
     "output_type": "stream",
     "text": [
      "False\n",
      "True\n"
     ]
    }
   ],
   "source": [
    "# if string is alphanumeric or not.\n",
    "str=' python, the language. adscg 34nf fnkuh55 6543'\n",
    "print(str.isalnum())\n",
    "\n",
    "#with some changes\n",
    "\n",
    "str='pythonthelanguageadscg34nffnkuh556543'\n",
    "print(str.isalnum())"
   ]
  },
  {
   "cell_type": "code",
   "execution_count": null,
   "id": "2c71e1e2",
   "metadata": {},
   "outputs": [],
   "source": []
  },
  {
   "cell_type": "code",
   "execution_count": null,
   "id": "e4bf1c4e",
   "metadata": {},
   "outputs": [],
   "source": []
  }
 ],
 "metadata": {
  "kernelspec": {
   "display_name": "Python 3 (ipykernel)",
   "language": "python",
   "name": "python3"
  },
  "language_info": {
   "codemirror_mode": {
    "name": "ipython",
    "version": 3
   },
   "file_extension": ".py",
   "mimetype": "text/x-python",
   "name": "python",
   "nbconvert_exporter": "python",
   "pygments_lexer": "ipython3",
   "version": "3.9.12"
  }
 },
 "nbformat": 4,
 "nbformat_minor": 5
}
