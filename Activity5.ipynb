{
 "cells": [
  {
   "cell_type": "code",
   "execution_count": 1,
   "id": "26b9d84c",
   "metadata": {},
   "outputs": [
    {
     "name": "stdout",
     "output_type": "stream",
     "text": [
      "Original list is: [[1, 2, 3], [8, 6, 2], [3, 2, 5], [3, 6], [3, 7, 4], [2, 9]]\n",
      "After reversing kth row: [[1, 2, 3], [2, 6, 8], [3, 2, 5], [6, 3], [3, 7, 4], [9, 2]]\n"
     ]
    }
   ],
   "source": [
    "#reversing Kth row in a matrix\n",
    "#using reversed() and loop\n",
    "\n",
    "test_list= [[1,2,3], [8,6,2], [3,2,5], [3,6], [3,7,4], [2,9]]\n",
    "#printing original list\n",
    "print(\"Original list is: \"+str(test_list))\n",
    "k=2\n",
    "new_list=[]\n",
    "for i, ele in enumerate(test_list):\n",
    "    if (i+1) % k == 0:\n",
    "        new_list.append(list(reversed(ele)))\n",
    "    else:\n",
    "            new_list.append(ele)\n",
    "#print after reversing\n",
    "print(\"After reversing kth row: \"+ str(new_list))"
   ]
  },
  {
   "cell_type": "code",
   "execution_count": 2,
   "id": "17610564",
   "metadata": {},
   "outputs": [
    {
     "name": "stdout",
     "output_type": "stream",
     "text": [
      "Original list is: [[1, 2, 3], [8, 6, 2], [3, 2, 5], [3, 6], [3, 7, 4], [2, 9]]\n",
      "After reversing kth row: [[1, 2, 3], [8, 6, 2], [5, 2, 3], [3, 6], [3, 7, 4], [9, 2]]\n"
     ]
    }
   ],
   "source": [
    "#reversing Kth row in a matrix\n",
    "#using reversed() and loop\n",
    "\n",
    "test_list= [[1,2,3], [8,6,2], [3,2,5], [3,6], [3,7,4], [2,9]]\n",
    "#printing original list\n",
    "print(\"Original list is: \"+str(test_list))\n",
    "k=3\n",
    "new_list=[]\n",
    "for i, ele in enumerate(test_list):\n",
    "    if (i+1) % k == 0:\n",
    "        new_list.append(list(reversed(ele)))\n",
    "    else:\n",
    "            new_list.append(ele)\n",
    "#print after reversing\n",
    "print(\"After reversing kth row: \"+ str(new_list))"
   ]
  },
  {
   "cell_type": "code",
   "execution_count": 3,
   "id": "f3a16755",
   "metadata": {},
   "outputs": [
    {
     "name": "stdout",
     "output_type": "stream",
     "text": [
      "The original list is: [[5, 3, 2], [8, 6, 3], [3, 5, 2], [3, 6], [3, 7, 4], [2, 9]]\n",
      "After reversing the kth row: [[5, 3, 2], [8, 6, 3], [2, 5, 3], [3, 6], [3, 7, 4], [9, 2]]\n"
     ]
    }
   ],
   "source": [
    "#reversing kth row using slicing and list comprehension\n",
    "test_list=[[5,3,2], [8,6,3], [3,5,2], [3,6], [3,7,4], [2,9]]\n",
    "print(\"The original list is: \"+str(test_list))\n",
    "k=3\n",
    "#enumerate() to get index and elements\n",
    "#list comprehension to perform iteration\n",
    "new_list=[ele[::-1] if (i+1)%k==0 else ele for i, ele in enumerate(test_list)]\n",
    "#printing the result\n",
    "print(\"After reversing the kth row: \"+str(new_list))"
   ]
  },
  {
   "cell_type": "code",
   "execution_count": null,
   "id": "c4a32f38",
   "metadata": {},
   "outputs": [],
   "source": []
  }
 ],
 "metadata": {
  "kernelspec": {
   "display_name": "Python 3 (ipykernel)",
   "language": "python",
   "name": "python3"
  },
  "language_info": {
   "codemirror_mode": {
    "name": "ipython",
    "version": 3
   },
   "file_extension": ".py",
   "mimetype": "text/x-python",
   "name": "python",
   "nbconvert_exporter": "python",
   "pygments_lexer": "ipython3",
   "version": "3.9.12"
  }
 },
 "nbformat": 4,
 "nbformat_minor": 5
}
