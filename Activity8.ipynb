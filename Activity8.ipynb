n =int(input("enter the number"))
sum=0
while(n>0):
        rem= n%10
        sum=sum+rem
        n=n//10
print("total sum of digit is",sum)

total sum of digit is 10

 #sum of digit using function
def get_sum(n):
        sum=0
        for digit in str(n):
                sum +=int(digit)
        return sum
n=int(input("enter the number"))
print(get_sum(n))

3

 #program to find whether its a  armstrong or not
num=int(input("enter the number"))
sum=0
temp=num
while temp>0:
    digit = temp%10
    sum +=digit**3
    temp//=10
if num==sum:
    print(num,"is an armstrong number")
else:
    print(num,"is an armstrong number")

77 is an armstrong number

