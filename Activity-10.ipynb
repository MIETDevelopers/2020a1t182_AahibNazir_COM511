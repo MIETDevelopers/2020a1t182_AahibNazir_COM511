{
 "cells": [
  {
   "cell_type": "code",
   "execution_count": 1,
   "id": "de9ced8b",
   "metadata": {},
   "outputs": [
    {
     "name": "stdout",
     "output_type": "stream",
     "text": [
      "Fibonacci series:\n",
      "0\n",
      "1\n",
      "1\n",
      "2\n",
      "3\n",
      "5\n",
      "8\n",
      "13\n",
      "21\n",
      "34\n"
     ]
    }
   ],
   "source": [
    "def recursive_fibonacci(n):\n",
    "  if n <= 1:\n",
    "      return n\n",
    "  else:\n",
    "      return(recursive_fibonacci(n-1) + recursive_fibonacci(n-2))\n",
    " \n",
    "n_terms = 10\n",
    " \n",
    "# check if the number of terms is valid\n",
    "if n_terms <= 0:\n",
    "  print(\"Invalid input ! Please input a positive value\")\n",
    "else:\n",
    "  print(\"Fibonacci series:\")\n",
    "for i in range(n_terms):\n",
    "    print(recursive_fibonacci(i))"
   ]
  },
  {
   "cell_type": "code",
   "execution_count": 2,
   "id": "620a0b6f",
   "metadata": {},
   "outputs": [
    {
     "name": "stdout",
     "output_type": "stream",
     "text": [
      "enter the number6\n",
      "Factorial of number 6 = 720\n"
     ]
    }
   ],
   "source": [
    "# Recursive function\n",
    "def recursive_factorial(n):\n",
    "  if n == 1:\n",
    "      return n\n",
    "  else:\n",
    "      return n * recursive_factorial(n-1)\n",
    " \n",
    "# user input\n",
    "num = int(input(\"enter the number\"))\n",
    " \n",
    "# check if the input is valid or not\n",
    "if num < 0:\n",
    "  print(\"Invalid input ! Please enter a positive number.\")\n",
    "elif num == 0:\n",
    "  print(\"Factorial of number 0 is 1\")\n",
    "else:\n",
    "  print(\"Factorial of number\", num, \"=\", recursive_factorial(num))"
   ]
  },
  {
   "cell_type": "code",
   "execution_count": 3,
   "id": "6c602a2a",
   "metadata": {},
   "outputs": [
    {
     "name": "stdout",
     "output_type": "stream",
     "text": [
      "enter the number3\n",
      "The factorial of 3 is 6\n"
     ]
    }
   ],
   "source": [
    "def factorial(x):\n",
    "    \"\"\"This is a recursive function\n",
    "    to find the factorial of an integer\"\"\"\n",
    "\n",
    "    if x == 1:\n",
    "        return 1\n",
    "    else:\n",
    "        return (x * factorial(x-1))\n",
    "\n",
    "\n",
    "num = int(input(\"enter the number\"))\n",
    "print(\"The factorial of\", num, \"is\", factorial(num))"
   ]
  },
  {
   "cell_type": "code",
   "execution_count": null,
   "id": "4619bb9f",
   "metadata": {},
   "outputs": [],
   "source": []
  }
 ],
 "metadata": {
  "kernelspec": {
   "display_name": "Python 3 (ipykernel)",
   "language": "python",
   "name": "python3"
  },
  "language_info": {
   "codemirror_mode": {
    "name": "ipython",
    "version": 3
   },
   "file_extension": ".py",
   "mimetype": "text/x-python",
   "name": "python",
   "nbconvert_exporter": "python",
   "pygments_lexer": "ipython3",
   "version": "3.9.12"
  }
 },
 "nbformat": 4,
 "nbformat_minor": 5
}
