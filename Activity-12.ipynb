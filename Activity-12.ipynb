{
 "cells": [
  {
   "cell_type": "code",
   "execution_count": 1,
   "id": "5ae12daa",
   "metadata": {},
   "outputs": [
    {
     "name": "stdout",
     "output_type": "stream",
     "text": [
      "Id\t\t: 1\n",
      "Name\t: pankaj\n",
      "Gender\t: male\n",
      "City\t: delhi\n",
      "Salary\t: 55000\n"
     ]
    }
   ],
   "source": [
    "#program to create employee management system\n",
    "class Employee:\n",
    "    id=0\n",
    "    name=\"\"\n",
    "    gender=\"\"\n",
    "    city=\"\"\n",
    "    salary=0\n",
    "# function to set data \n",
    "    def setData(self,id,name,gender,city,salary):\n",
    "        self.__id=id\n",
    "        self.__name = name\n",
    "        self.__gender = gender\n",
    "        self.__city = city\n",
    "        self.__salary = salary\n",
    "        # function to get/print data\n",
    "    def showData(self):\n",
    "        print(\"Id\\t\\t:\",self.__id)\n",
    "        print(\"Name\\t:\", self.__name)\n",
    "        print(\"Gender\\t:\", self.__gender)\n",
    "        print(\"City\\t:\", self.__city)\n",
    "        print(\"Salary\\t:\", self.__salary)\n",
    "\n",
    "# main function definition\n",
    "def main():\n",
    "    #Employee Object\n",
    "    emp=Employee()\n",
    "    emp.setData(1,'pankaj','male','delhi',55000)\n",
    "    emp.showData()\n",
    "if __name__==\"__main__\":\n",
    "    main()"
   ]
  },
  {
   "cell_type": "code",
   "execution_count": null,
   "id": "e71126ac",
   "metadata": {},
   "outputs": [],
   "source": []
  }
 ],
 "metadata": {
  "kernelspec": {
   "display_name": "Python 3 (ipykernel)",
   "language": "python",
   "name": "python3"
  },
  "language_info": {
   "codemirror_mode": {
    "name": "ipython",
    "version": 3
   },
   "file_extension": ".py",
   "mimetype": "text/x-python",
   "name": "python",
   "nbconvert_exporter": "python",
   "pygments_lexer": "ipython3",
   "version": "3.9.12"
  }
 },
 "nbformat": 4,
 "nbformat_minor": 5
}
