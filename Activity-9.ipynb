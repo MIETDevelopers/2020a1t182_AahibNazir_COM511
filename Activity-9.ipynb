{
 "cells": [
  {
   "cell_type": "code",
   "execution_count": 1,
   "id": "cdb8ceb3",
   "metadata": {},
   "outputs": [
    {
     "name": "stdout",
     "output_type": "stream",
     "text": [
      "name:amit\n",
      "address:jammu\n",
      "d.o.b:02/10/2001\n",
      "rollno:201\n",
      "name:karan\n",
      "address:delhi\n",
      "d.o.b:08/05/1999\n",
      "rollno:200\n",
      "name:sumit\n",
      "address:satwari\n",
      "d.o.b:30/09/1994\n",
      "rollno:56\n"
     ]
    }
   ],
   "source": [
    "#program to create a database using tuple and lists\n",
    "database=[('amit','jammu','02/10/2001','201'),('karan','delhi','08/05/1999','200'),('sumit','satwari','30/09/1994','56')]\n",
    "def information():\n",
    "    print(\"getting the information:\\n\")\n",
    "for idx, element in enumerate(database):\n",
    "    print(f\"name:{database[idx][0]}\")\n",
    "    print(f\"address:{database[idx][1]}\")\n",
    "    print(f\"d.o.b:{database[idx][2]}\")\n",
    "    print(f\"rollno:{database[idx][3]}\")"
   ]
  },
  {
   "cell_type": "code",
   "execution_count": null,
   "id": "c3684588",
   "metadata": {},
   "outputs": [],
   "source": []
  }
 ],
 "metadata": {
  "kernelspec": {
   "display_name": "Python 3 (ipykernel)",
   "language": "python",
   "name": "python3"
  },
  "language_info": {
   "codemirror_mode": {
    "name": "ipython",
    "version": 3
   },
   "file_extension": ".py",
   "mimetype": "text/x-python",
   "name": "python",
   "nbconvert_exporter": "python",
   "pygments_lexer": "ipython3",
   "version": "3.9.12"
  }
 },
 "nbformat": 4,
 "nbformat_minor": 5
}
