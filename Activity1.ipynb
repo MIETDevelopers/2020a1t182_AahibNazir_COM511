{
 "cells": [
  {
   "cell_type": "code",
   "execution_count": 1,
   "id": "2cadad52",
   "metadata": {},
   "outputs": [
    {
     "name": "stdout",
     "output_type": "stream",
     "text": [
      "40 is of type <class 'int'>\n",
      "2.56 is of type <class 'float'>\n",
      "(1+2j) is of type <class 'complex'>\n",
      "(1+2j) is a complex number? True\n"
     ]
    }
   ],
   "source": [
    "a=40\n",
    "print(a,\"is of type\", type(a))\n",
    "\n",
    "a=2.56\n",
    "print(a,\"is of type\", type(a))\n",
    "\n",
    "a=1+2j\n",
    "print(a,\"is of type\", type(a))\n",
    "print(a,\"is a complex number?\",isinstance(1+2j,complex))"
   ]
  },
  {
   "cell_type": "code",
   "execution_count": 2,
   "id": "65255778",
   "metadata": {},
   "outputs": [
    {
     "name": "stdout",
     "output_type": "stream",
     "text": [
      "12\n",
      "90.123\n"
     ]
    }
   ],
   "source": [
    "num=-12\n",
    "absolute_value=abs(num)\n",
    "print(absolute_value)\n",
    "\n",
    "float_num=-90.123\n",
    "absolute_value=abs(float_num)\n",
    "print(absolute_value)"
   ]
  },
  {
   "cell_type": "code",
   "execution_count": 3,
   "id": "605028d6",
   "metadata": {},
   "outputs": [
    {
     "name": "stdout",
     "output_type": "stream",
     "text": [
      "6\n",
      "(1, 2, 3, 'dell', '1+') length is 5\n",
      "Length of range(3, 14) is 11\n",
      "[] Length is 0\n"
     ]
    }
   ],
   "source": [
    "languages=['c','c++','python','java',1,2]\n",
    "length=len(languages)\n",
    "print(length)\n",
    "\n",
    "tuple=(1,2,3,'dell','1+')\n",
    "len(tuple)\n",
    "print(tuple,'length is',len(tuple))\n",
    "\n",
    "testrange=range(3,14)\n",
    "print('Length of',testrange,'is',len(testrange))\n",
    "\n",
    "list=[]\n",
    "print(list,'Length is',len(list))"
   ]
  },
  {
   "cell_type": "code",
   "execution_count": 4,
   "id": "01544ea1",
   "metadata": {},
   "outputs": [
    {
     "name": "stdout",
     "output_type": "stream",
     "text": [
      "The smallest value is:  -4\n"
     ]
    }
   ],
   "source": [
    "num=[9,12,11,-4,67]\n",
    "min_value=min(num)\n",
    "print('The smallest value is: ', min_value)"
   ]
  },
  {
   "cell_type": "code",
   "execution_count": 5,
   "id": "e8018df4",
   "metadata": {},
   "outputs": [
    {
     "name": "stdout",
     "output_type": "stream",
     "text": [
      "23\n",
      "5\n",
      "101\n",
      "8\n"
     ]
    }
   ],
   "source": [
    "print(round(23))\n",
    "\n",
    "print(round(4.56))\n",
    "\n",
    "print(round(100.678))\n",
    "\n",
    "print(round(7.5))"
   ]
  },
  {
   "cell_type": "code",
   "execution_count": 6,
   "id": "59a24c3f",
   "metadata": {},
   "outputs": [
    {
     "name": "stdout",
     "output_type": "stream",
     "text": [
      "True\n",
      "False\n",
      "False\n"
     ]
    }
   ],
   "source": [
    "name1='python3'\n",
    "print(name1.isalnum())\n",
    "\n",
    "name2='python 3'       # non-numeric values like, whitespaces, @\n",
    "print(name2.isalnum())\n",
    "\n",
    "string1='@python3'\n",
    "print(string1.isalnum())"
   ]
  },
  {
   "cell_type": "code",
   "execution_count": null,
   "id": "5723798e",
   "metadata": {},
   "outputs": [],
   "source": []
  }
 ],
 "metadata": {
  "kernelspec": {
   "display_name": "Python 3 (ipykernel)",
   "language": "python",
   "name": "python3"
  },
  "language_info": {
   "codemirror_mode": {
    "name": "ipython",
    "version": 3
   },
   "file_extension": ".py",
   "mimetype": "text/x-python",
   "name": "python",
   "nbconvert_exporter": "python",
   "pygments_lexer": "ipython3",
   "version": "3.9.12"
  }
 },
 "nbformat": 4,
 "nbformat_minor": 5
}
