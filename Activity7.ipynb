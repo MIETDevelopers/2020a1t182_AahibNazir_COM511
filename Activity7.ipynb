#PROGRAM TO CONVERT TEMPERATURE TO AND FROM CELSIUS TO FAHRENHEIT
celsius=40
fahrenheit=(celsius*1.8)+32
print('%.2f celsius is equivalent to: %.2f fahrenheit' %(celsius,fahrenheit))

40.00 celsius is equivalent to: 104.00 fahrenheit

# taking input from the user
celsius=int(input("enter the temperature:"))
fahrenheit=(celsius*1.8)+32
print('%.2f celsius is equivalent to: %.2f fahrenheit' %(celsius,fahrenheit))

enter the temperature:20
20.00 celsius is equivalent to: 68.00 fahrenheit

#program from statement to function for celsius to fahrenheit
def convert_ctof(c):
    f=(c*1.8)+32
    return f
c=float(input("enter the temperature in celsius"))
print("temperature in celsius ={:.2f}".format(c))
print("temperature in fahrenheit={:.2f}".format(convert_ctof(c)))

enter the temperature in celsius40
temperature in celsius =40.00
temperature in fahrenheit=104.00

#program from statement to function for fahrenheit to celsius
def convert_ftoc(f):
    c=(5/9)*(f-32)
    return c
f=float(input("enter the temperature in fahrenheit"))
print("temperature in fahrenheit ={:.2f}".format(f))
print("temperature in celsius={:.2f}".format(convert_ftoc(f)))

enter the temperature in fahrenheit104
temperature in fahrenheit =104.00
temperature in celsius=40.00

