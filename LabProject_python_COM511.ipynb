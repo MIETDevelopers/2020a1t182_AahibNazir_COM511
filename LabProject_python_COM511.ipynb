{
 "cells": [
  {
   "cell_type": "code",
   "execution_count": null,
   "id": "5732c515",
   "metadata": {},
   "outputs": [],
   "source": [
    "# File sorting application using os and shutil module in python. \n",
    "\n",
    "import os, shutil\n",
    "\n",
    "#  we can write every single extensions inside tuples \n",
    "dict_extensions = {\n",
    "    'audio_extensions' : ('.mp3', '.m4a', '.wav', '.flac'),\n",
    "    'video_extensions' : ('.mp4', '.mkv', '.MKV', '.flv', '.mpeg'),\n",
    "    'document_extensions' : ('.doc', '.pdf', '.txt'),\n",
    "}\n",
    "\n",
    "\n",
    "folderpath = input('enter folder path : ')\n",
    "\n",
    "def file_finder(folder_path, file_extensions):\n",
    "    # files = []\n",
    "    # for file in os.listdir(folder_path):\n",
    "    #     for extension in file_extensions:\n",
    "    #         if file.endswith(extension):\n",
    "    #             files.append(file)\n",
    "    # return files\n",
    "    return [file for file in os.listdir(folder_path) for extension in file_extensions if file.endswith(extension)]   #using list comprehension\n",
    "\n",
    "# print(file_finder(folderpath, video_extensions))\n",
    "for extension_type, extension_tuple in dict_extensions.items():\n",
    "    folder_name = extension_type.split('_')[0] + 'Files'\n",
    "    folder_path = os.path.join(folderpath, folder_name)\n",
    "    os.mkdir(folder_path)\n",
    "    for item in file_finder(folderpath, extension_tuple):\n",
    "        item_path = os.path.join(folderpath,item)\n",
    "        item_new_path = os.path.join(folder_path,item)\n",
    "        shutil.move(item_path,item_new_path)\n",
    "    # print('calling file finder')\n",
    "    # print(file_finder(folderpath, extension_tuple))"
   ]
  },
  {
   "cell_type": "code",
   "execution_count": null,
   "id": "ce2d3029",
   "metadata": {},
   "outputs": [],
   "source": []
  }
 ],
 "metadata": {
  "kernelspec": {
   "display_name": "Python 3 (ipykernel)",
   "language": "python",
   "name": "python3"
  },
  "language_info": {
   "codemirror_mode": {
    "name": "ipython",
    "version": 3
   },
   "file_extension": ".py",
   "mimetype": "text/x-python",
   "name": "python",
   "nbconvert_exporter": "python",
   "pygments_lexer": "ipython3",
   "version": "3.9.12"
  }
 },
 "nbformat": 4,
 "nbformat_minor": 5
}
