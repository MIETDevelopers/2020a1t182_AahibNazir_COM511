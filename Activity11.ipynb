class Student:
    def __init__(self, name, roll, s1, s2):
        self.name = name
        self.roll = roll
        self.s1 = s1
        self.s2 = s2

    # Function to create and append students
    def accept(self, Name, Roll, score1, score2):
        obj = Student(Name, Roll, score1, score2)
        ls.append(obj)

    # Display student details
    def display(self, obj):
        print("Name : ", obj.name)
        print("RollNo : ", obj.roll)
        print("Score1 : ", obj.s1)
        print("Score2 : ", obj.s2)
        print("\n")

    # Search Function
    def search(self, rn):
        for i in range(ls.__len__()):
            if (ls[i].roll == rn):
                 return i
ls = []
# Object of class
obj = Student('', 0, 0, 0)

print("\nOperations used, ")
print("\n1.Accept Student details\n"
      "2.Display Student Details\n" 
       "3.Search Details of a Student\n"
        "4.Delete Details of Student")
obj.accept("Karan", 1, 100, 100)
obj.accept("Sumit", 2, 90, 90)
obj.accept("Amit", 3, 80, 80)

print("\n")
print("\nList of Students\n")
for i in range(ls.__len__()):
    obj.display(ls[i])

print("\n Student Found, ")
s = obj.search(2)
obj.display(ls[s])

Operations used, 

1.Accept Student details
2.Display Student Details
3.Search Details of a Student
4.Delete Details of Student



List of Students

Name :  Karan
RollNo :  1
Score1 :  100
Score2 :  100


Name :  Sumit
RollNo :  2
Score1 :  90
Score2 :  90


Name :  Amit
RollNo :  3
Score1 :  80
Score2 :  80



 Student Found, 
Name :  Sumit
RollNo :  2
Score1 :  90
Score2 :  90


