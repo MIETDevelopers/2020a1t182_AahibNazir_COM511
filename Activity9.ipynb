#program to create a database using tuple and lists
database=[('amit','jammu','02/10/2001','201'),('karan','delhi','08/05/1999','200'),('sumit','satwari','30/09/1994','56')]
def information():
    print("getting the information:\n")
for idx, element in enumerate(database):
    print(f"name:{database[idx][0]}")
    print(f"address:{database[idx][1]}")
    print(f"d.o.b:{database[idx][2]}")
    print(f"rollno:{database[idx][3]}")

name:amit
address:jammu
d.o.b:02/10/2001
rollno:201
name:karan
address:delhi
d.o.b:08/05/1999
rollno:200
name:sumit
address:satwari
d.o.b:30/09/1994
rollno:56

