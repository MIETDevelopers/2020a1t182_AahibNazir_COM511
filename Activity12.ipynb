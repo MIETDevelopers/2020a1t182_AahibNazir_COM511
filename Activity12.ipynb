#program to create employee management system
class Employee:
    id=0
    name=""
    gender=""
    city=""
    salary=0
# function to set data 
    def setData(self,id,name,gender,city,salary):
        self.__id=id
        self.__name = name
        self.__gender = gender
        self.__city = city
        self.__salary = salary
        # function to get/print data
    def showData(self):
        print("Id\t\t:",self.__id)
        print("Name\t:", self.__name)
        print("Gender\t:", self.__gender)
        print("City\t:", self.__city)
        print("Salary\t:", self.__salary)

# main function definition
def main():
    #Employee Object
    emp=Employee()
    emp.setData(1,'pankaj','male','delhi',55000)
    emp.showData()
if __name__=="__main__":
    main()

Id		: 1
Name	: pankaj
Gender	: male
City	: delhi
Salary	: 55000

