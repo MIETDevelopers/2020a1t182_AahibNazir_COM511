{
 "cells": [
  {
   "cell_type": "code",
   "execution_count": 1,
   "id": "eefe581c",
   "metadata": {},
   "outputs": [
    {
     "name": "stdout",
     "output_type": "stream",
     "text": [
      "2\n",
      "3\n",
      "4\n",
      "8\n",
      "10\n",
      "12\n"
     ]
    }
   ],
   "source": [
    "# Iteration using for loop\n",
    "list=[2,3,4,8,10,12]\n",
    "for i in list:\n",
    "    print(i)"
   ]
  },
  {
   "cell_type": "code",
   "execution_count": 2,
   "id": "8ba416f1",
   "metadata": {},
   "outputs": [
    {
     "name": "stdout",
     "output_type": "stream",
     "text": [
      "1\n",
      "3\n",
      "5\n",
      "8\n",
      "9\n",
      "12\n"
     ]
    }
   ],
   "source": [
    "# Using for loop and range\n",
    "\n",
    "list=[1,3,5,8,9,12]\n",
    "length=len(list)\n",
    "for i in range(length):\n",
    "    print(list[i])"
   ]
  },
  {
   "cell_type": "code",
   "execution_count": 3,
   "id": "9b039512",
   "metadata": {},
   "outputs": [
    {
     "name": "stdout",
     "output_type": "stream",
     "text": [
      "2\n",
      "5\n",
      "4\n",
      "8\n",
      "11\n",
      "2\n",
      "4\n",
      "7\n",
      "5\n",
      "9\n",
      "22\n"
     ]
    },
    {
     "data": {
      "text/plain": [
       "[None, None, None, None, None, None]"
      ]
     },
     "execution_count": 3,
     "metadata": {},
     "output_type": "execute_result"
    }
   ],
   "source": [
    "#using while loop\n",
    "\n",
    "list=[2,5,4,8,11]\n",
    "length=len(list)\n",
    "i=0\n",
    "while i<length:\n",
    "    print(list[i])\n",
    "    i+=1 \n",
    "    \n",
    "# Using list comrehension\n",
    "list=[2,4,7,5,9,22]\n",
    "[print(i) for i in list]"
   ]
  },
  {
   "cell_type": "code",
   "execution_count": 4,
   "id": "76a7aa8b",
   "metadata": {},
   "outputs": [
    {
     "name": "stdout",
     "output_type": "stream",
     "text": [
      "dict_keys(['jk', 'Guj', 'Goa', 'Raj'])\n",
      "List of given states:\n",
      "\n",
      "jk\n",
      "Guj\n",
      "Goa\n",
      "Raj\n",
      "List of given capitals:\n",
      "\n",
      "sri\n",
      "Gandhinagar\n",
      "Panaji\n",
      "Jaipur\n"
     ]
    }
   ],
   "source": [
    "# Dictionary , pairs={keys:values}\n",
    "\n",
    "# Access key using the build keys()\n",
    "SandC={'jk':'sri', 'Guj':'Gandhinagar', 'Goa':'Panaji', 'Raj':'Jaipur'}\n",
    "keys=SandC.keys()\n",
    "print(keys)\n",
    "\n",
    "# Access key without using a key\n",
    "SandC={'jk':'sri', 'Guj':'Gandhinagar', 'Goa':'Panaji', 'Raj':'Jaipur'}\n",
    "print('List of given states:\\n')\n",
    "for State in SandC:\n",
    "    print(State)\n",
    "    \n",
    "# Iterate through all values using .value() \n",
    "SandC={'jk':'sri', 'Guj':'Gandhinagar', 'Goa':'Panaji', 'Raj':'Jaipur'}\n",
    "print('List of given capitals:\\n')\n",
    "for capital in SandC.values():\n",
    "    print(capital)"
   ]
  },
  {
   "cell_type": "code",
   "execution_count": 5,
   "id": "172ad479",
   "metadata": {},
   "outputs": [
    {
     "name": "stdout",
     "output_type": "stream",
     "text": [
      "jk  ->  sri\n",
      "Guj  ->  Gandhinagar\n",
      "Goa  ->  Panaji\n",
      "Raj  ->  Jaipur\n",
      "List of given states and their capitals:\n",
      "\n",
      "jk : sri\n",
      "Guj : Gandhinagar\n",
      "Goa : Panaji\n",
      "Raj : Jaipur\n",
      "dict_items([('jk', 'sri'), ('Guj', 'Gandhinagar'), ('Goa', 'Panaji'), ('Raj', 'Jaipur')])\n"
     ]
    }
   ],
   "source": [
    "# Dictionary , pairs={keys:values}\n",
    "\n",
    "#Access both keys and values without using items()\n",
    "SandC={'jk':'sri', 'Guj':'Gandhinagar', 'Goa':'Panaji', 'Raj':'Jaipur'}\n",
    "for i in SandC:\n",
    "    print(i,' -> ',SandC[i])\n",
    "    \n",
    "    \n",
    "# Iterate through all key and values pairs using items()\n",
    "SandC={'jk':'sri', 'Guj':'Gandhinagar', 'Goa':'Panaji', 'Raj':'Jaipur'}\n",
    "print('List of given states and their capitals:\\n')\n",
    "for state,capital in SandC.items():\n",
    "    print(state,\":\",capital)\n",
    "    \n",
    "#print items key-value in pairs\n",
    "SandC={'jk':'sri', 'Guj':'Gandhinagar', 'Goa':'Panaji', 'Raj':'Jaipur'}\n",
    "keys=SandC.items()\n",
    "print(keys)"
   ]
  },
  {
   "cell_type": "code",
   "execution_count": null,
   "id": "71863fe9",
   "metadata": {},
   "outputs": [],
   "source": []
  }
 ],
 "metadata": {
  "kernelspec": {
   "display_name": "Python 3 (ipykernel)",
   "language": "python",
   "name": "python3"
  },
  "language_info": {
   "codemirror_mode": {
    "name": "ipython",
    "version": 3
   },
   "file_extension": ".py",
   "mimetype": "text/x-python",
   "name": "python",
   "nbconvert_exporter": "python",
   "pygments_lexer": "ipython3",
   "version": "3.9.12"
  }
 },
 "nbformat": 4,
 "nbformat_minor": 5
}
